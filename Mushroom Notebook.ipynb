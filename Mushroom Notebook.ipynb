{
 "cells": [
  {
   "cell_type": "markdown",
   "metadata": {},
   "source": [
    "## References\n",
    "\n",
    "Duch W, Adamczak R, Grabczewski K (1996) Extraction of logical rules from training data using backpropagation networks, in: Proc. of the The 1st Online Workshop on Soft Computing, 19-30.Aug.1996, pp. 25-30. (Web Link)\n",
    "Duch, Adamczak, and Grabczewski develop a method for extracting a rule set for determining categorization by developing multi-layered perceptrons. In order to express logical rules, they first determine a method for mapping real values into discrete categories which still allows categorization of all vectors. Using these new inputs and a neural network, they use backpropagation with a steep sigmoid function for activation, and an error function that better enforces values of +1, -1, and 0. These weights determine whether a feature is significant for categorization, insignificant, or if the opposite feature is significant respectively. These weights are then analyzed in order to determine the corresponding ruleset. This method, used on the Iris dataset, produces a ruleset that is able to classify 98% of the data using at most three rules for one category. This method was also used on the mushroom dataset, but they were unable to determine the corresponding ruleset due to the complex nature of the dataset.\n",
    "http://www.fizyka.umk.pl/ftp/pub/papers/kmk/96lrules.pdf\n",
    "\n",
    "Robert Andrews, Joachim Diederich, Alan B. Tickle, Survey and critique of techniques for extracting rules from trained artificial neural networks, Knowledge-Based Systems, Volume 8, Issue 6, December 1995, Pages 373-389, ISSN 0950-7051. (Web Link)\n",
    "Andrews, Diederich, and Tickle survey & critique techniques for extracting rules from trained artificial neural networks. They focus on mechanisms, procedures, and algorithms for knowledge initialization, rule extraction, and rule refinement. There is some discussion as to why it is beneficial to have artificial neural networks (ANNs) have techniques for rule extraction. They argue that knowledge acquisition is less complicated for neural networks than for rules based systems, that there is a greater speed to access data and it is simpler to store. They also argue that ANNs are robust in the face of noise and accurate in their categorization. The major drawback they wish to address (and part of the need for rule extraction) is that the neural network can’t explain why it got the answer it got. Adding rule extraction mechanisms improves the explanatory power, the generalization of ANN solutions, and it can overcome the knowledge acquisition problem for symbolic AI systems.\n",
    "They review rule extraction methods from multilayered ANNs that use supervised learning regimes (such as backpropagation). The problems/questions they attempt to address are various methods on the basis of knowledge acquired in the training phase encoded in the architecture (the number of hidden units), an activation function, and set of real-valued numerical parameters. They classify the expressive power, translucency, extent of underlying training regimes, quality of extracted rules, and complexity of extraction & refinement. They group approaches into two main categories: decompositional approaches and pedagogical approaches. In conclusion, they find that being able to extract “fuzzy” rules improves the explanatory power of neural networks. \n",
    "\n",
    "Duch, Wlodzislaw, Rafal Adamczak, and Krzysztof Grøbczewski. \"A new methodology of extraction, optimization and application of crisp and fuzzy logical rules.\" Neural Networks, IEEE Transactions on 12.2 (2001): 277-306. (Web Link)\n",
    "Duch, Adamczak, and Grøbczewski expand on their 1996 paper in order to fully apply their method of logical extraction from multi-layered perceptrons on the mushroom dataset, as well as multiple other datasets. They also compare results across these datasets between different methods of rule extraction. Their result proved to be able to produce simple sets of rules that correctly predicted most of the data. For data that they couldn’t predict as well, their rule system they produced exposed underlying problems with the data itself. Finally, they were able to demonstrate that for two specific datasets, the network and ruleset they developed were more accurate than more general neural networks. This could be due to the inability of softer transfer functions to represent sharp decision boundaries that might be necessary for some feature sets. Additionally, their method uses additional global optimization methods that might find a better optimal solutions than the gradient-descent method that neural networks use.\n",
    "http://www.fizyka.umk.pl/publications/kmk/00-tnn.pdf\n",
    "\n",
    "Lichman, M. (2013). Mushroom Data Set. UCI Machine Learning Repository [http://archive.ics.uci.edu/ml]. Irvine, CA: University of California, School of Information and Computer Science."
   ]
  },
  {
   "cell_type": "markdown",
   "metadata": {},
   "source": [
    "### PROJECT START"
   ]
  },
  {
   "cell_type": "markdown",
   "metadata": {},
   "source": [
    "4/20/16-5/1/16: Reviewed literature and settled on the MLP2LN for the Iris and Mushroom datasets. Proposal written, submitted, accepted."
   ]
  },
  {
   "cell_type": "markdown",
   "metadata": {},
   "source": [
    "5/5/16: Reviewed timeline and set sub-deadlines.\n",
    "6th sunday: write algorithm\n",
    "7th week: make model!\n",
    "8th Wednesday 5/18: Running model\n",
    "9th Monday 5/23: Have running model on data, data analysis, outline of presentation/paper\n",
    "9th Friday: presentation\n",
    "10th wednesday: paper due\n",
    "\n",
    "Action Steps:\n",
    "1. Review papers, attempt to glean basic idea / algorithm.\n",
    "2. Put together algorithm.\n",
    "3. Write basic class structure."
   ]
  },
  {
   "cell_type": "markdown",
   "metadata": {},
   "source": [
    "5/8/16: Reviewed papers on MLP2LN algorithms to start writing pseudocode. \n",
    "Important equations:\n",
    "\n",
    "For labeling features (eq 2): IF $x_i \\in  X_{ij}$ THEN $(s_k=label(x_k) = T)$\n",
    "\n",
    "Weight pruning (eq 4): $W_{ij} \\leftarrow W_{ij} + \\lambda W_{ij} (W_{ij}^2 -1) (3W_{ij}^2 - 1)$\n",
    "\n",
    "Weight training (eq 9 in p1, 10 in p2): \n",
    "$\\frac{1}{2}\\Sigma_p\\Sigma_k (Y_k^p - A_W(X^p)_k)^2 + \\frac{\\lambda_1}{2} \\Sigma_{i>j} W^2_{ij} + \\frac{\\lambda_2}{2}\\Sigma_{i>j}W^2_{ij} (W_{ij} - 1)^2 (W_{ij} + 1)^2$\n",
    "\n",
    "\n",
    "Algorithm (adapted from page 10 of 2nd paper):\n",
    "1. Create one hidden neuron\n",
    "2. Train that neuron on data using backpropogation with regularization. $\\lambda_1 = 10^{-5}$ and $\\lambda_2 = 0$\n",
    "3. Train as long as the error decreases. Then increase $\\lambda_1$ by a factor of $10$ until a sharp increase of the error. If after increasing $\\lambda_1$ there's an increase of a factor of 5 in the error, stop. Decrease $\\lambda_1$ returns to previous state. Remove weights smaller than $|.1|$. Set $\\lambda_2 = \\lambda_1$ and $\\lambda_1 = 0$. Train slowly, increasing the slopes in $\\lambda_2$ until weights reach $0 \\pm 0.05$ or $\\pm 1 \\pm 0.05$. Set very large T (about one thousand) and set integer weights to $0 , \\pm 1$. \n",
    "4. Analyse the weights and the thresholds obtained \n",
    "5. Freeze the weights of existing neurons. \n",
    "6. Add the next neurone. Be sure to connect it to the output neuron.\n",
    "7. Repeat the procdedure until all data is correctly classified or the number of rules obtained grows sharply.\n",
    "\n",
    "\n",
    "Questions:\n",
    "1. What's the unit slope / sigmoidal function (step 2, step 3a)?\n",
    "2. How do they get the rules out of the network?\n",
    "3. Why doesn't Fig 1 match the table for the Iris problem?\n",
    "4. What are the deltas?\n",
    "\n",
    "\n",
    "Next Steps:\n",
    "1. Figure out how to get the rules from the network\n",
    "2. How do we get the threshold $\\theta$ and the $\\delta$\n",
    "3. Go ask Anna."
   ]
  },
  {
   "cell_type": "markdown",
   "metadata": {
    "collapsed": true
   },
   "source": [
    "5/11/16: Anna's Office Hours Notes\n",
    "\n",
    "1. Not sure - email papers & questions to her. \n",
    "Rephrased questions:\n",
    "1. We're not sure what T is. It shows up in eq 2 of the short paper and seems to represent a numerical label of the data. In the longer paper (on page 10), T seems to be the unit slope, or the unit slope is defined by a sigma of x/T. We don't really know what the unit slope is. Or what T is. Or what x is. \n",
    "2. We understand how the arrive at the weights given on page 2 of the shorter paper, but not how they reach the \"threshold value\" or theta. We understand how the network is built & how it's trained, with the exception of the Ts above. We're confused because the weights they give don't seem to match Fig 1 that's supposed to represent the structure of the network. On page three, they show the rules they've extracted from the network, but we don't know how they get from the weights & network structure to those rules. \n",
    "3. In Table 1 we're not sure how they're getting the delta values. The values don't seem consistent with the explanation they give for how they calculate the deltas above it. \n",
    "4. We *think* that there's some sort of mapping from the network to the tree in Fig 2 of the shorter paper. And from there, you extract the rules. It's not clear to us how that is happening. \n"
   ]
  },
  {
   "cell_type": "markdown",
   "metadata": {},
   "source": [
    "5/11/16: Anna's E-Mail\n",
    "1. So, big picture I think they're trying to ensure that the activations of the units are just 0/1 (or -1/1). They're using a sigmoid as g: 1/(1+exp(-x)). You can offset this to have asymptotes at -1/1 rather than 0/1 if you modify as follows: g(x) = -1+2/(1+exp(-x)) (see wikipedia https://en.wikipedia.org/wiki/Generalised_logistic_function for more on variations on this). I think they're saying this sigmoid has unit slope. You can increase the slope to make it sharper, so that the transition from 0 to 1 happens faster, if you multiply x by something. E.g., in the graph below, the red line is g(x) = 1/(1+exp(-5x)). \n",
    "I suspect that T is meant to increase the slope so that the hidden units will all have activations near -1/1, meaning that we have a \"logical\" form of the real valued inputs. (x here is the weights * inputs).\n",
    "\n",
    "Ways this is inconsistent/confusing from the papers:\n",
    "- They sound like they're dividing by T rather than multiplying. I think this doesn't make sense because I think they want the slope to get steeper and steeper slopes based on \"gradually increasing the slope β of sigmoidal functions σ(βx) to obtain crisp decision regions\"\n",
    "- I have no idea what T is in the shorter paper, although I'm sort of suspecting it's not the same as this T in the loner paper.\n",
    "2 & 3. I'm not entirely sure what the threshold values mean, although page 111 of the longer paper maybe has an answer in the paragraph right before \"C. probability density networks\"?\n",
    "\n",
    "I understand part of the bit about the rules and the deltas, although not entirely. This figure makes the most sense to me on relating the structure of the network (I agree, fig 1 doesn't make sense to me):\n",
    "Inline image 2\n",
    "Here, for all three types of irises, the value for input 1 doesn't matter, so none of the s/m/l associate with $X_{1}$ have outgoing arrows. Similarly for $X_{2}$. For $X_{3}$, there's one for each one of the three class (three outgoing arrows)  and similarly for $X_{4}$.\n",
    "\n",
    "\n",
    "Going back to the other paper, I think the way they're going from the weights to the rules is as follows:\n",
    "Inline image 3\n",
    "Inline image 5\n",
    "First, the tree is only going to tell us where this is Setosa or not. They create the table above by looking at each section of the weight vector for setosa. The weights for x_{1} are (+, 0, 0), meaning that if x_{1} is small, it gets a positive weight (and they've constrained their weights to be very near +1 or -1), so the contribution to the final output is approximately 1. If it's not small, then that feature is equal to -1, so with the positive weight, the contribution to the final output is approximately -1. Same thing for $x_{2}$. If $x_{3}$ is small, then it has a positive contribution from the small weight, and it also has medium = -1, so it gets a positive contribution from -1*(negative medium weight). Thus, total contribution to the output is +2. There's a similar argument for if $x_{3}$ is medium, and if $x_{3}$ is large, then it has both small = medium = -1, so these weights cancel each other out.\n",
    "Inline image 4\n",
    "Once we have the table above, we can make this tree. They chose an ordering on the input features, and are basically looking at whether with these input features, the output could ever fall below the threshold of 2. (I'm not sure why they're putting 3 - it may end up being the same thing, but I think it would be less confusing if they used 2...). Once we look at $x_{4}$, we're either +3 or -1 depending on whether $x_{4}$ was small. Then, we look at $x_{3}$. If x4 = not small and x3 = large, then total contribution to the output is -1. If we look at $x_{2}$ and $x_{1}$, the most they could swing us to is 1. This is less than the threshold for activation (theta = 2), so no matter what, we won't say Setosa. We're basically cutting off the tree based on whether looking at further inputs could actually influence our classification. "
   ]
  },
  {
   "cell_type": "markdown",
   "metadata": {},
   "source": [
    "May 16, 2016.\n",
    "\n",
    "Agenda:\n",
    "1. Write out algorithm for retrieving deltas.\n",
    "2. Start writing code? Method headings, main method. \n",
    "3. How are we going to make/search the tree?\n",
    "\n",
    "Notes:\n",
    "1. Each edge between a feature and the hidden layer has a weight in a network is 0+/-1. To get the delta: \n",
    "for each identifier (small/medium/large):\n",
    "    if #it's activated, then add the weight to the delta\n",
    "    if #it's not activated, then subtract the weight from the delta\n",
    "    if #its' zero, do nothing\n",
    "\n",
    "Given the Deltas for each idenitifier for each category, we first need to order categories such that categories that have the most effect on activation (the absolute value of the sum of the deltas) will be the first levels of the tree. After creating this ordering, we need to calculate the \"worst case\" for each level (the sum of the smallest delta for each category below in the tree). We will also calculate the \"best case\" for each level. With this we can create a tree in order to find the different possible activations (represented by each node). If at a certain node we find that the activatino is high enough so that, even in the worst case, we know it will pass the threshold, we can stop expanding the tree at that point and make a rule. If an activation is low enough so that the best case will not bring it up to the threshold, we will stop expanding the tree at that point (and not make a rule).\n",
    "\n",
    "2. We wrote skeleton code\n",
    "3. See above. \n",
    "\n",
    "Next Steps:\n",
    "1. fill out code\n",
    "2. investigate thresholds & Ts\n",
    "3. see if we can steal Anna's backprop code"
   ]
  },
  {
   "cell_type": "markdown",
   "metadata": {},
   "source": [
    "5/17/16:\n",
    "We started filling out the code, verified that we could steal Anna's backprop code. load_data, labeling, and training happens below! The network currently never classifies anything as Iris-versicolor. This seems weird. We're going to sleep on it and try again tomorrow."
   ]
  },
  {
   "cell_type": "code",
   "execution_count": 1,
   "metadata": {
    "collapsed": false
   },
   "outputs": [
    {
     "name": "stdout",
     "output_type": "stream",
     "text": [
      "layer: \n",
      "[[-1.0856306   0.99734545  0.2829785  -1.50629471 -0.57860025  1.65143654\n",
      "  -2.42667924 -0.42891263  1.26593626 -0.8667404  -0.67888615 -0.09470897]\n",
      " [ 1.49138963 -0.638902   -0.44398196 -0.43435128  2.20593008  2.18678609\n",
      "   1.0040539   0.3861864   0.73736858  1.49073203 -0.93583387  1.17582904]\n",
      " [-1.25388067 -0.6377515   0.9071052  -1.4286807  -0.14006872 -0.8617549\n",
      "  -0.25561937 -2.79858911 -1.7715331  -0.69987723  0.92746243 -0.17363568]\n",
      " [ 0.00284592  0.68822271 -0.87953634  0.28362732 -0.80536652 -1.72766949\n",
      "  -0.39089979  0.57380586  0.33858905 -0.01183049  2.39236527  0.41291216]\n",
      " [ 0.97873601  2.23814334 -1.29408532 -1.03878821  1.74371223 -0.79806274\n",
      "   0.02968323  1.06931597  0.89070639  1.75488618  1.49564414  1.06939267]\n",
      " [-0.77270871  0.79486267  0.31427199 -1.32626546  1.41729905  0.80723653\n",
      "   0.04549008 -0.23309206 -1.19830114  0.19952407  0.46843912 -0.83115498]\n",
      " [ 1.16220405 -1.09720305 -2.12310035  1.03972709 -0.40336604 -0.12602959\n",
      "  -0.83751672 -1.60596276  1.25523737 -0.68886898  1.66095249  0.80730819]\n",
      " [-0.31475815 -1.0859024  -0.73246199 -1.21252313  2.08711336  0.16444123\n",
      "   1.15020554 -1.26735205  0.18103513  1.17786194 -0.33501076  1.03111446]\n",
      " [-1.08456791 -1.36347154  0.37940061 -0.37917643  0.64205469 -1.97788793\n",
      "   0.71226464  2.59830393 -0.02462598  0.03414213  0.17954948 -1.86197571]\n",
      " [ 0.42614664 -1.60540974 -0.4276796   1.24286955 -0.73521696  0.50124899\n",
      "   1.01273905  0.27874086 -1.37094847 -0.33247528  1.95941134 -2.02504576]\n",
      " [-0.27578601 -0.55210807  0.12074736  0.74821562  1.60869097 -0.27023239\n",
      "   0.81234133  0.49974014  0.4743473  -0.56392393 -0.99732147 -1.10004311]\n",
      " [-0.75643721  0.32168658  0.76094939  0.32346885 -0.5489551   1.80597011\n",
      "   1.51886562 -0.35400011 -0.82343141  0.13021495  1.26729865  0.33276498]]\n",
      "layer: \n",
      "[[ 0.5565487  -0.21208012  0.4562709   1.54454445 -0.23966878  0.14330773\n",
      "   0.25381648  0.28372536 -1.41188888 -1.87686866 -1.01965507  0.1679423 ]\n",
      " [ 0.55385617 -0.53067456  1.37725748 -0.14317597  0.020316   -0.19396387\n",
      "   0.13402679  0.70447407  0.66565344 -0.89842294  1.52366378 -1.09502646]\n",
      " [ 0.07922701 -0.27439657 -1.04899168 -0.07512059 -0.74081377  0.07290724\n",
      "   0.40308596  1.47192937  0.30738422 -0.61122534 -0.39161981  0.13997811]]\n"
     ]
    },
    {
     "ename": "ValueError",
     "evalue": "shapes (3,12) and (1,12) not aligned: 12 (dim 1) != 1 (dim 0)",
     "output_type": "error",
     "traceback": [
      "\u001b[0;31m---------------------------------------------------------------------------\u001b[0m",
      "\u001b[0;31mValueError\u001b[0m                                Traceback (most recent call last)",
      "\u001b[0;32m<ipython-input-1-b461168df364>\u001b[0m in \u001b[0;36m<module>\u001b[0;34m()\u001b[0m\n\u001b[1;32m      7\u001b[0m \u001b[0mY\u001b[0m \u001b[0;34m=\u001b[0m \u001b[0mnp\u001b[0m\u001b[0;34m.\u001b[0m\u001b[0marray\u001b[0m\u001b[0;34m(\u001b[0m\u001b[0mexpected_outputs\u001b[0m\u001b[0;34m)\u001b[0m\u001b[0;34m.\u001b[0m\u001b[0mT\u001b[0m\u001b[0;34m\u001b[0m\u001b[0m\n\u001b[1;32m      8\u001b[0m \u001b[0;34m\u001b[0m\u001b[0m\n\u001b[0;32m----> 9\u001b[0;31m \u001b[0mweights\u001b[0m\u001b[0;34m,\u001b[0m \u001b[0mbias\u001b[0m \u001b[0;34m=\u001b[0m \u001b[0mmn\u001b[0m\u001b[0;34m.\u001b[0m\u001b[0mtrain_multilayer_network\u001b[0m\u001b[0;34m(\u001b[0m\u001b[0mX\u001b[0m\u001b[0;34m,\u001b[0m \u001b[0mY\u001b[0m\u001b[0;34m,\u001b[0m \u001b[0mmn\u001b[0m\u001b[0;34m.\u001b[0m\u001b[0mupdate_weights\u001b[0m\u001b[0;34m)\u001b[0m\u001b[0;34m\u001b[0m\u001b[0m\n\u001b[0m",
      "\u001b[0;32m/Users/Joy/Desktop/Mushroom/multilayernetwork.py\u001b[0m in \u001b[0;36mtrain_multilayer_network\u001b[0;34m(X, Y, weight_updating_function, num_iters, num_hidden)\u001b[0m\n\u001b[1;32m    123\u001b[0m     \u001b[0;32mfor\u001b[0m \u001b[0mi\u001b[0m \u001b[0;32min\u001b[0m \u001b[0mrange\u001b[0m\u001b[0;34m(\u001b[0m\u001b[0mnum_iters\u001b[0m\u001b[0;34m)\u001b[0m\u001b[0;34m:\u001b[0m\u001b[0;34m\u001b[0m\u001b[0m\n\u001b[1;32m    124\u001b[0m         \u001b[0;31m# print(\"Iteration:\",i)\u001b[0m\u001b[0;34m\u001b[0m\u001b[0;34m\u001b[0m\u001b[0m\n\u001b[0;32m--> 125\u001b[0;31m         \u001b[0mweight_updating_function\u001b[0m\u001b[0;34m(\u001b[0m\u001b[0mX\u001b[0m\u001b[0;34m,\u001b[0m \u001b[0mY\u001b[0m\u001b[0;34m,\u001b[0m \u001b[0mweights\u001b[0m\u001b[0;34m,\u001b[0m \u001b[0mbias\u001b[0m\u001b[0;34m,\u001b[0m \u001b[0meta\u001b[0m\u001b[0;34m)\u001b[0m\u001b[0;34m\u001b[0m\u001b[0m\n\u001b[0m\u001b[1;32m    126\u001b[0m \u001b[0;34m\u001b[0m\u001b[0m\n\u001b[1;32m    127\u001b[0m     \u001b[0;32mreturn\u001b[0m \u001b[0mweights\u001b[0m\u001b[0;34m,\u001b[0m \u001b[0mbias\u001b[0m\u001b[0;34m\u001b[0m\u001b[0m\n",
      "\u001b[0;32m/Users/Joy/Desktop/Mushroom/multilayernetwork.py\u001b[0m in \u001b[0;36mupdate_weights\u001b[0;34m(x, y, weights, bias, eta)\u001b[0m\n\u001b[1;32m     86\u001b[0m         \u001b[0;31m# compute weight delta for the second layer\u001b[0m\u001b[0;34m\u001b[0m\u001b[0;34m\u001b[0m\u001b[0m\n\u001b[1;32m     87\u001b[0m         \u001b[0md1\u001b[0m \u001b[0;34m=\u001b[0m \u001b[0mour_derror\u001b[0m\u001b[0;34m(\u001b[0m\u001b[0my\u001b[0m\u001b[0;34m[\u001b[0m\u001b[0;34m:\u001b[0m\u001b[0;34m,\u001b[0m \u001b[0;34m[\u001b[0m\u001b[0mi\u001b[0m\u001b[0;34m]\u001b[0m\u001b[0;34m]\u001b[0m\u001b[0;34m,\u001b[0m \u001b[0mx2\u001b[0m\u001b[0;34m,\u001b[0m \u001b[0mweights\u001b[0m\u001b[0;34m,\u001b[0m \u001b[0;36m0.01\u001b[0m\u001b[0;34m)\u001b[0m \u001b[0;34m*\u001b[0m \u001b[0mdlogistic\u001b[0m\u001b[0;34m(\u001b[0m\u001b[0mx2\u001b[0m\u001b[0;34m)\u001b[0m\u001b[0;34m\u001b[0m\u001b[0m\n\u001b[0;32m---> 88\u001b[0;31m         \u001b[0mdw1\u001b[0m \u001b[0;34m=\u001b[0m \u001b[0meta\u001b[0m \u001b[0;34m*\u001b[0m \u001b[0mnp\u001b[0m\u001b[0;34m.\u001b[0m\u001b[0mdot\u001b[0m\u001b[0;34m(\u001b[0m\u001b[0md1\u001b[0m\u001b[0;34m,\u001b[0m \u001b[0mx1\u001b[0m\u001b[0;34m.\u001b[0m\u001b[0mT\u001b[0m\u001b[0;34m)\u001b[0m\u001b[0;34m\u001b[0m\u001b[0m\n\u001b[0m\u001b[1;32m     89\u001b[0m         \u001b[0mdb1\u001b[0m \u001b[0;34m=\u001b[0m \u001b[0meta\u001b[0m \u001b[0;34m*\u001b[0m \u001b[0md1\u001b[0m\u001b[0;34m.\u001b[0m\u001b[0msum\u001b[0m\u001b[0;34m(\u001b[0m\u001b[0maxis\u001b[0m\u001b[0;34m=\u001b[0m\u001b[0;36m1\u001b[0m\u001b[0;34m)\u001b[0m\u001b[0;34m\u001b[0m\u001b[0m\n\u001b[1;32m     90\u001b[0m \u001b[0;34m\u001b[0m\u001b[0m\n",
      "\u001b[0;31mValueError\u001b[0m: shapes (3,12) and (1,12) not aligned: 12 (dim 1) != 1 (dim 0)"
     ]
    }
   ],
   "source": [
    "import mushroom\n",
    "import numpy as np\n",
    "import multilayernetwork as mn\n",
    "data = mushroom.load_data('data/iris.data')\n",
    "X, expected_outputs = mushroom.label_features(data)\n",
    "X = np.array(X).T\n",
    "Y = np.array(expected_outputs).T\n",
    "\n",
    "weights, bias = mn.train_multilayer_network(X, Y, mn.update_weights)"
   ]
  },
  {
   "cell_type": "code",
   "execution_count": null,
   "metadata": {
    "collapsed": false
   },
   "outputs": [],
   "source": [
    "Y = mn.predict_multilayer_network(X, weights, bias, mn.logistic, mn.logistic)\n",
    "output = Y.T\n",
    "for i in range(len(output)):\n",
    "    j = np.argmax(output[i])\n",
    "    output[i] = [0,0,0]\n",
    "    output[i][j] = 1\n",
    "print(mn.get_confusion_matrix(output, expected_outputs))\n"
   ]
  },
  {
   "cell_type": "markdown",
   "metadata": {
    "collapsed": true
   },
   "source": [
    "5/23/16: We fixed the problem that stopped the network from classifying Iris-Versicolor things by increasing the number of hidden units. We started writing our own error functions as specified in the paper, but we're stuck because:\n",
    "* we're not sure how to add in the \"additional weight updates\" to the \"cost function\" because we're not sure what the cost function is\n",
    "* we're alo not totally sure if we should be using cross entropy or not, how that works, and if the one we have is broken \n",
    "* by changing the g for the second layer to multinomial (which might be what the cross entropy update is?) we mess up our predictions.\n",
    "\n"
   ]
  },
  {
   "cell_type": "code",
   "execution_count": null,
   "metadata": {
    "collapsed": true
   },
   "outputs": [],
   "source": []
  }
 ],
 "metadata": {
  "kernelspec": {
   "display_name": "Python 3",
   "language": "python",
   "name": "python3"
  },
  "language_info": {
   "codemirror_mode": {
    "name": "ipython",
    "version": 3
   },
   "file_extension": ".py",
   "mimetype": "text/x-python",
   "name": "python",
   "nbconvert_exporter": "python",
   "pygments_lexer": "ipython3",
   "version": "3.5.1"
  }
 },
 "nbformat": 4,
 "nbformat_minor": 0
}

{
 "cells": [
  {
   "cell_type": "markdown",
   "metadata": {},
   "source": [
    "4/20/16-5/1/16: Reviewed literature and settled on the MLP2LN for the Iris and Mushroom datasets. Proposal written, submitted, accepted."
   ]
  },
  {
   "cell_type": "markdown",
   "metadata": {},
   "source": [
    "5/5/16: Reviewed timeline and set sub-deadlines.\n",
    "6th sunday: write algorithm\n",
    "7th week: make model!\n",
    "8th Wednesday 5/18: Running model\n",
    "9th Monday 5/23: Have running model on data, data analysis, outline of presentation/paper\n",
    "9th Friday: presentation\n",
    "10th wednesday: paper due\n",
    "\n",
    "Action Steps:\n",
    "1. Review papers, attempt to glean basic idea / algorithm.\n",
    "2. Put together algorithm.\n",
    "3. Write basic class structure."
   ]
  },
  {
   "cell_type": "markdown",
   "metadata": {},
   "source": [
    "5/8/16: Reviewed papers on MLP2LN algorithms to start writing pseudocode. \n",
    "Important equations:\n",
    "\n",
    "For labeling features (eq 2): IF $x_i \\in  X_{ij}$ THEN $(s_k=label(x_k) = T)$\n",
    "\n",
    "Weight pruning (eq 4): $W_{ij} \\leftarrow W_{ij} + \\lambda W_{ij} (W_{ij}^2 -1) (3W_{ij}^2 - 1)$\n",
    "\n",
    "Weight training (eq 9 in p1, 10 in p2): \n",
    "$\\frac{1}{2}\\Sigma_p\\Sigma_k (Y_k^p - A_W(X^p)_k)^2 + \\frac{\\lambda_1}{2} \\Sigma_{i>j} W^2_{ij} + \\frac{\\lambda_2}{2}\\Sigma_{i>j}W^2_{ij} (W_{ij} - 1)^2 (W_{ij} + 1)^2$\n",
    "\n",
    "\n",
    "Algorithm (adapted from page 10 of 2nd paper):\n",
    "1. Create one hidden neuron\n",
    "2. Train that neuron on data using backpropogation with regularization. $\\lambda_1 = 10^{-5}$ and $\\lambda_2 = 0$\n",
    "3. Train as long as the error decreases. Then increase $\\lambda_1$ by a factor of $10$ until a sharp increase of the error. If after increasing $\\lambda_1$ there's an increase of a factor of 5 in the error, stop. Decrease $\\lambda_1$ returns to previous state. Remove weights smaller than $|.1|$. Set $\\lambda_2 = \\lambda_1$ and $\\lambda_1 = 0$. Train slowly, increasing the slopes in $\\lambda_2$ until weights reach $0 \\pm 0.05$ or $\\pm 1 \\pm 0.05$. Set very large T (about one thousand) and set integer weights to $0 , \\pm 1$. \n",
    "4. Analyse the weights and the thresholds obtained \n",
    "5. Freeze the weights of existing neurons. \n",
    "6. Add the next neurone. Be sure to connect it to the output neuron.\n",
    "7. Repeat the procdedure until all data is correctly classified or the number of rules obtained grows sharply.\n",
    "\n",
    "\n",
    "Questions:\n",
    "1. What's the unit slope / sigmoidal function (step 2, step 3a)?\n",
    "2. How do they get the rules out of the network?\n",
    "3. Why doesn't Fig 1 match the table for the Iris problem?\n",
    "4. What are the deltas?\n",
    "\n",
    "\n",
    "Next Steps:\n",
    "1. Figure out how to get the rules from the network\n",
    "2. How do we get the threshold $\\theta$ and the $\\delta$\n",
    "3. Go ask Anna."
   ]
  },
  {
   "cell_type": "markdown",
   "metadata": {
    "collapsed": true
   },
   "source": [
    "5/11/16: Anna's Office Hours Notes\n",
    "\n",
    "1. Not sure - email papers & questions to her. \n",
    "Rephrased questions:\n",
    "1. We're not sure what T is. It shows up in eq 2 of the short paper and seems to represent a numerical label of the data. In the longer paper (on page 10), T seems to be the unit slope, or the unit slope is defined by a sigma of x/T. We don't really know what the unit slope is. Or what T is. Or what x is. \n",
    "2. We understand how the arrive at the weights given on page 2 of the shorter paper, but not how they reach the \"threshold value\" or theta. We understand how the network is built & how it's trained, with the exception of the Ts above. We're confused because the weights they give don't seem to match Fig 1 that's supposed to represent the structure of the network. On page three, they show the rules they've extracted from the network, but we don't know how they get from the weights & network structure to those rules. \n",
    "3. In Table 1 we're not sure how they're getting the delta values. The values don't seem consistent with the explanation they give for how they calculate the deltas above it. \n",
    "4. We *think* that there's some sort of mapping from the network to the tree in Fig 2 of the shorter paper. And from there, you extract the rules. It's not clear to us how that is happening. \n"
   ]
  },
  {
   "cell_type": "markdown",
   "metadata": {},
   "source": [
    "5/11/16: Anna's E-Mail\n",
    "1. So, big picture I think they're trying to ensure that the activations of the units are just 0/1 (or -1/1). They're using a sigmoid as g: 1/(1+exp(-x)). You can offset this to have asymptotes at -1/1 rather than 0/1 if you modify as follows: g(x) = -1+2/(1+exp(-x)) (see wikipedia https://en.wikipedia.org/wiki/Generalised_logistic_function for more on variations on this). I think they're saying this sigmoid has unit slope. You can increase the slope to make it sharper, so that the transition from 0 to 1 happens faster, if you multiply x by something. E.g., in the graph below, the red line is g(x) = 1/(1+exp(-5x)). \n",
    "I suspect that T is meant to increase the slope so that the hidden units will all have activations near -1/1, meaning that we have a \"logical\" form of the real valued inputs. (x here is the weights * inputs).\n",
    "\n",
    "Ways this is inconsistent/confusing from the papers:\n",
    "- They sound like they're dividing by T rather than multiplying. I think this doesn't make sense because I think they want the slope to get steeper and steeper slopes based on \"gradually increasing the slope β of sigmoidal functions σ(βx) to obtain crisp decision regions\"\n",
    "- I have no idea what T is in the shorter paper, although I'm sort of suspecting it's not the same as this T in the loner paper.\n",
    "2 & 3. I'm not entirely sure what the threshold values mean, although page 111 of the longer paper maybe has an answer in the paragraph right before \"C. probability density networks\"?\n",
    "\n",
    "I understand part of the bit about the rules and the deltas, although not entirely. This figure makes the most sense to me on relating the structure of the network (I agree, fig 1 doesn't make sense to me):\n",
    "Inline image 2\n",
    "Here, for all three types of irises, the value for input 1 doesn't matter, so none of the s/m/l associate with $X_{1}$ have outgoing arrows. Similarly for $X_{2}$. For $X_{3}$, there's one for each one of the three class (three outgoing arrows)  and similarly for $X_{4}$.\n",
    "\n",
    "\n",
    "Going back to the other paper, I think the way they're going from the weights to the rules is as follows:\n",
    "Inline image 3\n",
    "Inline image 5\n",
    "First, the tree is only going to tell us where this is Setosa or not. They create the table above by looking at each section of the weight vector for setosa. The weights for x_{1} are (+, 0, 0), meaning that if x_{1} is small, it gets a positive weight (and they've constrained their weights to be very near +1 or -1), so the contribution to the final output is approximately 1. If it's not small, then that feature is equal to -1, so with the positive weight, the contribution to the final output is approximately -1. Same thing for $x_{2}$. If $x_{3}$ is small, then it has a positive contribution from the small weight, and it also has medium = -1, so it gets a positive contribution from -1*(negative medium weight). Thus, total contribution to the output is +2. There's a similar argument for if $x_{3}$ is medium, and if $x_{3}$ is large, then it has both small = medium = -1, so these weights cancel each other out.\n",
    "Inline image 4\n",
    "Once we have the table above, we can make this tree. They chose an ordering on the input features, and are basically looking at whether with these input features, the output could ever fall below the threshold of 2. (I'm not sure why they're putting 3 - it may end up being the same thing, but I think it would be less confusing if they used 2...). Once we look at $x_{4}$, we're either +3 or -1 depending on whether $x_{4}$ was small. Then, we look at $x_{3}$. If x4 = not small and x3 = large, then total contribution to the output is -1. If we look at $x_{2}$ and $x_{1}$, the most they could swing us to is 1. This is less than the threshold for activation (theta = 2), so no matter what, we won't say Setosa. We're basically cutting off the tree based on whether looking at further inputs could actually influence our classification. "
   ]
  },
  {
   "cell_type": "markdown",
   "metadata": {},
   "source": [
    "May 16, 2016.\n",
    "\n",
    "Agenda:\n",
    "1. Write out algorithm for retrieving deltas.\n",
    "2. Start writing code? Method headings, main method. \n",
    "3. How are we going to make/search the tree?\n",
    "\n",
    "Notes:\n",
    "1. Each edge between a feature and the hidden layer has a weight in a network is 0+/-1. To get the delta: \n",
    "for each identifier (small/medium/large):\n",
    "    if #it's activated, then add the weight to the delta\n",
    "    if #it's not activated, then subtract the weight from the delta\n",
    "    if #its' zero, do nothing\n",
    "\n",
    "Given the Deltas for each idenitifier for each category, we first need to order categories such that categories that have the most effect on activation (the absolute value of the sum of the deltas) will be the first levels of the tree. After creating this ordering, we need to calculate the \"worst case\" for each level (the sum of the smallest delta for each category below in the tree). We will also calculate the \"best case\" for each level. With this we can create a tree in order to find the different possible activations (represented by each node). If at a certain node we find that the activatino is high enough so that, even in the worst case, we know it will pass the threshold, we can stop expanding the tree at that point and make a rule. If an activation is low enough so that the best case will not bring it up to the threshold, we will stop expanding the tree at that point (and not make a rule).\n",
    "\n",
    "2. We wrote skeleton code\n",
    "3. See above. \n",
    "\n",
    "Next Steps:\n",
    "1. fill out code\n",
    "2. investigate thresholds & Ts\n",
    "3. see if we can steal Anna's backprop code"
   ]
  },
  {
   "cell_type": "markdown",
   "metadata": {},
   "source": [
    "References\n",
    "\n",
    "Duch W, Adamczak R, Grabczewski K (1996) Extraction of logical rules from training data using backpropagation networks, in: Proc. of the The 1st Online Workshop on Soft Computing, 19-30.Aug.1996, pp. 25-30. (Web Link)\n",
    "Duch, Adamczak, and Grabczewski develop a method for extracting a rule set for determining categorization by developing multi-layered perceptrons. In order to express logical rules, they first determine a method for mapping real values into discrete categories which still allows categorization of all vectors. Using these new inputs and a neural network, they use backpropagation with a steep sigmoid function for activation, and an error function that better enforces values of +1, -1, and 0. These weights determine whether a feature is significant for categorization, insignificant, or if the opposite feature is significant respectively. These weights are then analyzed in order to determine the corresponding ruleset. This method, used on the Iris dataset, produces a ruleset that is able to classify 98% of the data using at most three rules for one category. This method was also used on the mushroom dataset, but they were unable to determine the corresponding ruleset due to the complex nature of the dataset.\n",
    "http://www.fizyka.umk.pl/ftp/pub/papers/kmk/96lrules.pdf\n",
    "\n",
    "Robert Andrews, Joachim Diederich, Alan B. Tickle, Survey and critique of techniques for extracting rules from trained artificial neural networks, Knowledge-Based Systems, Volume 8, Issue 6, December 1995, Pages 373-389, ISSN 0950-7051. (Web Link)\n",
    "Andrews, Diederich, and Tickle survey & critique techniques for extracting rules from trained artificial neural networks. They focus on mechanisms, procedures, and algorithms for knowledge initialization, rule extraction, and rule refinement. There is some discussion as to why it is beneficial to have artificial neural networks (ANNs) have techniques for rule extraction. They argue that knowledge acquisition is less complicated for neural networks than for rules based systems, that there is a greater speed to access data and it is simpler to store. They also argue that ANNs are robust in the face of noise and accurate in their categorization. The major drawback they wish to address (and part of the need for rule extraction) is that the neural network can’t explain why it got the answer it got. Adding rule extraction mechanisms improves the explanatory power, the generalization of ANN solutions, and it can overcome the knowledge acquisition problem for symbolic AI systems.\n",
    "They review rule extraction methods from multilayered ANNs that use supervised learning regimes (such as backpropagation). The problems/questions they attempt to address are various methods on the basis of knowledge acquired in the training phase encoded in the architecture (the number of hidden units), an activation function, and set of real-valued numerical parameters. They classify the expressive power, translucency, extent of underlying training regimes, quality of extracted rules, and complexity of extraction & refinement. They group approaches into two main categories: decompositional approaches and pedagogical approaches. In conclusion, they find that being able to extract “fuzzy” rules improves the explanatory power of neural networks. \n",
    "\n",
    "Duch, Wlodzislaw, Rafal Adamczak, and Krzysztof Grøbczewski. \"A new methodology of extraction, optimization and application of crisp and fuzzy logical rules.\" Neural Networks, IEEE Transactions on 12.2 (2001): 277-306. (Web Link)\n",
    "Duch, Adamczak, and Grøbczewski expand on their 1996 paper in order to fully apply their method of logical extraction from multi-layered perceptrons on the mushroom dataset, as well as multiple other datasets. They also compare results across these datasets between different methods of rule extraction. Their result proved to be able to produce simple sets of rules that correctly predicted most of the data. For data that they couldn’t predict as well, their rule system they produced exposed underlying problems with the data itself. Finally, they were able to demonstrate that for two specific datasets, the network and ruleset they developed were more accurate than more general neural networks. This could be due to the inability of softer transfer functions to represent sharp decision boundaries that might be necessary for some feature sets. Additionally, their method uses additional global optimization methods that might find a better optimal solutions than the gradient-descent method that neural networks use.\n",
    "http://citeseerx.ist.psu.edu/viewdoc/download?doi=10.1.1.76.6703&rep=rep1&type=pdf\n",
    "\n",
    "Lichman, M. (2013). Mushroom Data Set. UCI Machine Learning Repository [http://archive.ics.uci.edu/ml]. Irvine, CA: University of California, School of Information and Computer Science."
   ]
  },
  {
   "cell_type": "code",
   "execution_count": null,
   "metadata": {
    "collapsed": true
   },
   "outputs": [],
   "source": []
  }
 ],
 "metadata": {
  "kernelspec": {
   "display_name": "Python 3",
   "language": "python",
   "name": "python3"
  },
  "language_info": {
   "codemirror_mode": {
    "name": "ipython",
    "version": 3
   },
   "file_extension": ".py",
   "mimetype": "text/x-python",
   "name": "python",
   "nbconvert_exporter": "python",
   "pygments_lexer": "ipython3",
   "version": "3.5.1"
  }
 },
 "nbformat": 4,
 "nbformat_minor": 0
}
